{
 "cells": [
  {
   "cell_type": "code",
   "execution_count": 1,
   "metadata": {},
   "outputs": [],
   "source": [
    "from scipy.spatial import distance\n",
    "import pandas as pd\n",
    "from numpy import inner\n",
    "from numpy.linalg import norm"
   ]
  },
  {
   "cell_type": "code",
   "execution_count": null,
   "metadata": {},
   "outputs": [],
   "source": [
    "#def cosine_distance(a,b):\n",
    "#    return(np.inner(a, b) / (norm(a) * norm(b)))\n",
    "\n",
    "#def euclidian_distance(a,b):\n",
    "#    return(norm(a-b)*-1)\n",
    "\n",
    "\n",
    "\n",
    "def hamming_distance(a,b):\n",
    "    '''\n",
    "    compares distance for binary arrays\n",
    "    returns number of features that are not the same\n",
    "    '''\n",
    "    if max(a)>1:\n",
    "      a[a>0]=1\n",
    "      b[b>0]=1\n",
    "    return(distance.hamming(a,b))\n",
    "    \n",
    "def find_matches(pred, #features from user selected image\n",
    "                 collection_features,  #list of features in the collection\n",
    "                 images, #list of filenames associated with the features\n",
    "                 dist='cosine' #distance metric - only cosine is good\n",
    "                 ): \n",
    "    '''\n",
    "    Finds matches for the features of the selected image, \n",
    "    according to the distance metric specified.\n",
    "    Distance metrics use the scipy package\n",
    "    '''   \n",
    "    pred = pred.flatten()\n",
    "    \n",
    "    nimages = len(collection_features)\n",
    "    #vectorize cosine similarity\n",
    "#    sims= inner(pred,collection_features)/norm(pred)/norm(collection_features,axis=1)\n",
    "    sims = []\n",
    "    for i in range(0,nimages):\n",
    "        if dist=='euclidean':\n",
    "            sims.append(distance.euclidean(pred.flatten(),\n",
    "                                           collection_features[i].flatten()))\n",
    "        elif dist=='hamming':\n",
    "            pred[pred>0]=1\n",
    "            sims.append(distance.hamming(pred.flatten(),\n",
    "                                         collection_features[i].flatten()))\n",
    "        else: #default to cosine\n",
    "            sims.append(distance.cosine(pred.flatten(),\n",
    "                                        collection_features[i].flatten()))\n",
    "    print('max sim = ' +str(max(sims)))\n",
    "    similar_images=pd.DataFrame({'imgfile':images,\n",
    "                                 'simscore':sims})\n",
    "    return(similar_images)"
   ]
  },
  {
   "cell_type": "code",
   "execution_count": 1,
   "metadata": {},
   "outputs": [],
   "source": [
    "def cosine_similarity(predictions, adoptable_dogs, images):\n",
    "    sim_score = []\n",
    "    for idx in range(0, len(adoptable_dogs)):\n",
    "        sim_score.append(sim_score.cosine(predictions.flatten(), adoptable_dogs[idx].flatten()))\n",
    "    print('Maximum SimScore: '+str(max(sim_score)))\n",
    "    return pd.DataFrame({'imgFile':images, 'SimScore':sim_score})"
   ]
  },
  {
   "cell_type": "code",
   "execution_count": null,
   "metadata": {},
   "outputs": [],
   "source": [
    "# To Test... take 50 images from adoptable dog set and get feature vectors (1x4096) to compute cosine_similarity"
   ]
  },
  {
   "cell_type": "code",
   "execution_count": null,
   "metadata": {},
   "outputs": [],
   "source": []
  },
  {
   "cell_type": "code",
   "execution_count": null,
   "metadata": {},
   "outputs": [],
   "source": []
  }
 ],
 "metadata": {
  "kernelspec": {
   "display_name": "Python 3",
   "language": "python",
   "name": "python3"
  },
  "language_info": {
   "codemirror_mode": {
    "name": "ipython",
    "version": 3
   },
   "file_extension": ".py",
   "mimetype": "text/x-python",
   "name": "python",
   "nbconvert_exporter": "python",
   "pygments_lexer": "ipython3",
   "version": "3.6.5"
  }
 },
 "nbformat": 4,
 "nbformat_minor": 2
}
