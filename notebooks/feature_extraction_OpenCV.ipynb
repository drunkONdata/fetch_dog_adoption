{
 "cells": [
  {
   "cell_type": "code",
   "execution_count": null,
   "metadata": {},
   "outputs": [],
   "source": [
    "import sys\n",
    "sys.path.append('..')\n",
    "import src.matcher\n",
    "from src.openCV_feature_extraction import extract_features, batch_extractor\n",
    "import numpy as np\n",
    "import random\n",
    "import os\n",
    "import matplotlib.pyplot as plt"
   ]
  },
  {
   "cell_type": "code",
   "execution_count": null,
   "metadata": {},
   "outputs": [],
   "source": [
    "def show_img(path):\n",
    "    img = imread(path, mode=\"RGB\")\n",
    "    plt.imshow(img)\n",
    "    plt.show()\n",
    "    \n",
    "def run():\n",
    "    images_path = '../data/images/'\n",
    "    files = [os.path.join(images_path, p) for p in sorted(os.listdir(images_path))]\n",
    "    # getting 3 random images \n",
    "    sample = random.sample(files, 3)\n",
    "    \n",
    "    batch_extractor(images_path)\n",
    "\n",
    "    ma = Matcher('features.pck')\n",
    "    \n",
    "    for s in sample:\n",
    "        print('Query image ==========================================')\n",
    "        show_img(s)\n",
    "        names, match = ma.match(s, topn=3)\n",
    "        print('Result images ========================================')\n",
    "        for i in range(3):\n",
    "                    print('Match %s' % (1-match[i]))\n",
    "            show_img(os.path.join(images_path, names[i]))"
   ]
  },
  {
   "cell_type": "code",
   "execution_count": null,
   "metadata": {},
   "outputs": [],
   "source": [
    "run()"
   ]
  }
 ],
 "metadata": {
  "kernelspec": {
   "display_name": "Python 3",
   "language": "python",
   "name": "python3"
  },
  "language_info": {
   "codemirror_mode": {
    "name": "ipython",
    "version": 3
   },
   "file_extension": ".py",
   "mimetype": "text/x-python",
   "name": "python",
   "nbconvert_exporter": "python",
   "pygments_lexer": "ipython3",
   "version": "3.6.5"
  }
 },
 "nbformat": 4,
 "nbformat_minor": 2
}
