{
 "cells": [
  {
   "cell_type": "code",
   "execution_count": 1,
   "metadata": {},
   "outputs": [],
   "source": [
    "from scipy.spatial import distance\n",
    "import pandas as pd\n",
    "from numpy import inner\n",
    "from numpy.linalg import norm"
   ]
  },
  {
   "cell_type": "code",
   "execution_count": null,
   "metadata": {},
   "outputs": [],
   "source": [
    "#def cosine_distance(a,b):\n",
    "#    return(np.inner(a, b) / (norm(a) * norm(b)))\n",
    "\n",
    "#def euclidian_distance(a,b):\n",
    "#    return(norm(a-b)*-1)\n"
   ]
  },
  {
   "cell_type": "code",
   "execution_count": 1,
   "metadata": {},
   "outputs": [],
   "source": [
    "def cosine_similarity(user_predict, adoptable_dogs, images):\n",
    "    '''\n",
    "    Calculating cosine similarity between user submitted picture and adoptable dogs collection.\n",
    "    INPUT: predict = features from user submitted image, \n",
    "           adoptable_dogs = list of features in the collection, \n",
    "           images = list of image filepaths associated with adoptable_dogs features \n",
    "    OUTPUT: Pandas dataframe with image filepath and similarity score\n",
    "    '''   \n",
    "    sim_score = []\n",
    "    for idx in range(0, len(adoptable_dogs)):\n",
    "        sim_score.append(distance.cosine(user_predict.flatten(), adoptable_dogs[idx].flatten()))\n",
    "    print('Maximum SimScore: '+str(max(sim_score)))\n",
    "    return pd.DataFrame({'imgFile':images, 'SimScore':sim_score})"
   ]
  },
  {
   "cell_type": "code",
   "execution_count": null,
   "metadata": {},
   "outputs": [],
   "source": [
    "def bool_conv(array):\n",
    "    '''\n",
    "    Converting array to boolean, with average value threshold.\n",
    "    '''   \n",
    "    avg = sum(array.flatten())/len(array.flatten())\n",
    "    return array > avg\n",
    "\n",
    "def binary_conv(array):\n",
    "    '''\n",
    "    Converting array to binary, with average value threshold. \n",
    "    '''   \n",
    "    avg = sum(array.flatten())/len(array.flatten())\n",
    "    return np.where(array > avg, 1, 0)\n",
    "\n",
    "##Still workign on this function\n",
    "\n",
    "def hamming_dist(x,y):\n",
    "    '''\n",
    "    Calculating hamming distance between two NumPy arrays\n",
    "    INPUT: Two Numpy arrays\n",
    "    OUTPUT: Hamming distance between two inputs\n",
    "    '''   \n",
    "    a = np.unpackbits(x, axis=1)\n",
    "    b = np.unpackbits(y, axis=1)\n",
    "    \n",
    "    \n",
    "    '''\n",
    "    def hamming_distance(a,b):\n",
    "    \n",
    "    compares distance for binary arrays\n",
    "    returns number of features that are not the same\n",
    "    \n",
    "    if max(a)>1:\n",
    "      a[a>0]=1\n",
    "      b[b>0]=1\n",
    "    return(distance.hamming(a,b))\n",
    "    '''"
   ]
  },
  {
   "cell_type": "code",
   "execution_count": null,
   "metadata": {},
   "outputs": [],
   "source": [
    "def bray_curtis_dist(user_predict, adoptable_dogs, images):\n",
    "    '''\n",
    "    Calculating Bray-Curtis distance between two 1D arrays and return similarity score\n",
    "    '''   \n",
    "    sim_score = []\n",
    "    for idx in range(0, len(adoptable_dogs)):\n",
    "        sim_score.append(distance.braycurtis(user_predict.flatten(), adoptable_dogs[idx].flatten()))\n",
    "    print('Maximum SimScore: '+str(max(sim_score)))\n",
    "    return pd.DataFrame({'imgFile':images, 'SimScore':sim_score})"
   ]
  },
  {
   "cell_type": "code",
   "execution_count": 1,
   "metadata": {},
   "outputs": [],
   "source": [
    "def canberra_dist(user_predict, adoptable_dogs, images):\n",
    "    '''\n",
    "    Calculating Canberra distance between two 1D arrays and return similiarty score\n",
    "    '''   \n",
    "    sim_score = []\n",
    "    for idx in range(0, len(adoptable_dogs)):\n",
    "        sim_score.append(distance.canberra(user_predict.flatten(), adoptable_dogs[idx].flatten()))\n",
    "    print('Maximum SimScore: '+str(max(sim_score)))\n",
    "    return pd.DataFrame({'imgFile':images, 'SimScore':sim_score})"
   ]
  },
  {
   "cell_type": "code",
   "execution_count": null,
   "metadata": {},
   "outputs": [],
   "source": [
    "def cheb_dist(user_predict, adoptable_dogs, images):\n",
    "    '''\n",
    "    Calculating Chepyshev distance between two 1D arrays and return similarity score\n",
    "    '''   \n",
    "    sim_score = []\n",
    "    for idx in range(0, len(adoptable_dogs)):\n",
    "        sim_score.append(distance.chebyshev(user_predict.flatten(), adoptable_dogs[idx].flatten()))\n",
    "    print('Maximum SimScore: '+str(max(sim_score)))\n",
    "    return pd.DataFrame({'imgFile':images, 'SimScore':sim_score})"
   ]
  },
  {
   "cell_type": "code",
   "execution_count": null,
   "metadata": {},
   "outputs": [],
   "source": [
    "def manhattan_dist(user_predict, adoptable_dogs, images):\n",
    "    '''\n",
    "    Calculating Manhattan distance between two 1D arrays and return similarity score\n",
    "    '''   \n",
    "    sim_score = []\n",
    "    for idx in range(0, len(adoptable_dogs)):\n",
    "        sim_score.append(distance.cityblock(user_predict.flatten(), adoptable_dogs[idx].flatten()))\n",
    "    print('Maximum SimScore: '+str(max(sim_score)))\n",
    "    return pd.DataFrame({'imgFile':images, 'SimScore':sim_score})"
   ]
  },
  {
   "cell_type": "code",
   "execution_count": null,
   "metadata": {},
   "outputs": [],
   "source": [
    "def euclidean_dist(user_predict, adoptable_dogs, images):\n",
    "    '''\n",
    "    Calculating Euclidean distance between two 1D arrays and return similarity score\n",
    "    '''   \n",
    "    sim_score = []\n",
    "    for idx in range(0, len(adoptable_dogs)):\n",
    "        sim_score.append(distance.euclidean(user_predict.flatten(), adoptable_dogs[idx].flatten()))\n",
    "    print('Maximum SimScore: '+str(max(sim_score)))\n",
    "    return pd.DataFrame({'imgFile':images, 'SimScore':sim_score})"
   ]
  },
  {
   "cell_type": "code",
   "execution_count": null,
   "metadata": {},
   "outputs": [],
   "source": []
  },
  {
   "cell_type": "code",
   "execution_count": null,
   "metadata": {},
   "outputs": [],
   "source": []
  },
  {
   "cell_type": "code",
   "execution_count": null,
   "metadata": {},
   "outputs": [],
   "source": [
    "cosine(u, v[, w])\tCompute the Cosine distance between 1-D arrays."
   ]
  },
  {
   "cell_type": "code",
   "execution_count": null,
   "metadata": {},
   "outputs": [],
   "source": []
  },
  {
   "cell_type": "code",
   "execution_count": null,
   "metadata": {},
   "outputs": [],
   "source": [
    "# To Test... take 50 images from adoptable dog set and get feature vectors (1x4096) to compute cosine_similarity"
   ]
  },
  {
   "cell_type": "code",
   "execution_count": null,
   "metadata": {},
   "outputs": [],
   "source": []
  }
 ],
 "metadata": {
  "kernelspec": {
   "display_name": "Python 3",
   "language": "python",
   "name": "python3"
  },
  "language_info": {
   "codemirror_mode": {
    "name": "ipython",
    "version": 3
   },
   "file_extension": ".py",
   "mimetype": "text/x-python",
   "name": "python",
   "nbconvert_exporter": "python",
   "pygments_lexer": "ipython3",
   "version": "3.6.5"
  }
 },
 "nbformat": 4,
 "nbformat_minor": 2
}
